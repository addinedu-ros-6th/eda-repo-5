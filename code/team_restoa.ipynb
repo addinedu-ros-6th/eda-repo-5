{
 "cells": [
  {
   "cell_type": "code",
   "execution_count": null,
   "metadata": {},
   "outputs": [],
   "source": [
    "from selenium import webdriver\n",
    "from selenium.webdriver.common.by import By\n",
    "from selenium.webdriver.common.keys import Keys\n",
    "from selenium.webdriver.support import expected_conditions as EC\n",
    "from selenium.webdriver.common.actions.action_builder import ActionBuilder\n",
    "from selenium.webdriver.common.actions.mouse_button import MouseButton\n",
    "from selenium.webdriver import ActionChains\n",
    "import pandas as pd\n",
    "import pandas as pd\n",
    "import time"
   ]
  },
  {
   "cell_type": "code",
   "execution_count": null,
   "metadata": {},
   "outputs": [],
   "source": [
    "driver = webdriver.Chrome()\n",
    "driver.get('https://map.kakao.com/')\n",
    "driver.implicitly_wait(3)"
   ]
  },
  {
   "cell_type": "code",
   "execution_count": null,
   "metadata": {},
   "outputs": [],
   "source": [
    "selenium_data = []\n",
    "def collect_data():\n",
    "    place_list = driver.find_element(By.ID, \"info.search.place.list\").find_elements(By.TAG_NAME, \"li\")\n",
    "    place_list_len = len(driver.find_element(By.ID, \"info.search.place.list\").find_elements(By.TAG_NAME, \"li\"))\n",
    "    for j in range(place_list_len):\n",
    "        print(j)\n",
    "        tmp = []\n",
    "        ratings_reviews = ratings_reviews = driver.find_element(By.CLASS_NAME, \"placelist\").find_elements(By.CLASS_NAME, \"rating.clickArea\")[j].text.split('\\n')\n",
    "        name = driver.find_elements(By.CLASS_NAME, \"tit_name\")[j].text[2:] #상호\n",
    "        address = driver.find_elements(By.CLASS_NAME, \"addr\")[j].text.split('\\n')[0] #주소\n",
    "        category = driver.find_elements(By.CLASS_NAME, \"subcategory.clickable\")[j].text #카테고리\n",
    "        gu = driver.find_elements(By.CLASS_NAME, \"addr\")[0].text.split(' ')[1] #구\n",
    "        #별점 미제공 식당\n",
    "        if len(ratings_reviews) == 2:\n",
    "            ratings = '미제공' #별점\n",
    "            reviews = ratings_reviews[1][3:] #리뷰\n",
    "        else:\n",
    "            ratings = ratings_reviews[0] #별점\n",
    "            reviews = ratings_reviews[2][3:] #리뷰\n",
    "        tmp.append(name)\n",
    "        tmp.append(ratings)\n",
    "        tmp.append(reviews)\n",
    "        tmp.append(address)\n",
    "        tmp.append(category)\n",
    "        tmp.append(gu)\n",
    "        selenium_data.append(tmp)\n",
    "\n",
    "def next_btn(driver):\n",
    "    no2 = driver.find_element(By.ID,'info.search.page.no2')\n",
    "    no2.click()\n",
    "    time.sleep(0.1)\n",
    "    collect_data()\n",
    "    #driver.implicitly_wait(3) # 필요할 경우 time.sleep(0.5) 대체(실행시간이 더 빠름)\n",
    "    no3 = driver.find_element(By.ID,'info.search.page.no3')\n",
    "    no3.click()\n",
    "    time.sleep(0.1)\n",
    "    collect_data()\n",
    "    no4 = driver.find_element(By.ID,'info.search.page.no4')\n",
    "    no4.click()\n",
    "    time.sleep(0.1)\n",
    "    collect_data()\n",
    "    no5 = driver.find_element(By.ID,'info.search.page.no5')\n",
    "    no5.click()\n",
    "    time.sleep(0.1)\n",
    "    collect_data()\n",
    "    no_next = driver.find_element(By.ID,'info.search.page.next')\n",
    "    no_next.click()\n",
    "    time.sleep(0.1)"
   ]
  },
  {
   "cell_type": "code",
   "execution_count": null,
   "metadata": {},
   "outputs": [],
   "source": [
    "seoul_districts = ['강남구', '강동구', '강북구', '강서구', '관악구', '광진구', '구로구', '금천구', '노원구', '도봉구', '동대문구', '동작구', '마포구', '서대문구', '서초구', '성동구', '성북구', '송파구', '양천구', '영등포구', '용산구', '은평구', '종로구', '중구', '중랑구']\n",
    "celenium_data = []\n",
    "#작동 안 될시 카카오맵 검색창 클릭\n",
    "#ㅇㅇ구 맛집 검색\n",
    "for i in seoul_districts:\n",
    "    restaurant = i + ' 맛집'\n",
    "    driver.find_element(By.XPATH, \"\"\"//*[@id=\"search.keyword.query\"]\"\"\").click()\n",
    "    time.sleep(0.3)\n",
    "    driver.find_element(By.XPATH, \"\"\"//*[@id=\"search.keyword.query\"]\"\"\").click()\n",
    "    driver.find_element(By.XPATH, \"\"\"//*[@id=\"search.keyword.query\"]\"\"\").send_keys(restaurant)\n",
    "    driver.find_element(By.XPATH, \"\"\"//*[@id=\"search.keyword.submit\"]\"\"\").send_keys(Keys.ENTER)\n",
    "    place_list = driver.find_element(By.ID, \"info.search.place.list\").find_elements(By.TAG_NAME, \"li\")\n",
    "    place_list_len = len(driver.find_element(By.ID, \"info.search.place.list\").find_elements(By.TAG_NAME, \"li\"))\n",
    "    tag = driver.find_element(By.ID,'info.search.place.more')\n",
    "    tag.click()\n",
    "    driver.find_element(By.ID,'info.search.page.no1').click()\n",
    "    #식당 정보 수집\n",
    "    have_btn = True\n",
    "    while have_btn:\n",
    "        try:\n",
    "            next_btn(driver)\n",
    "        except Exception as e:\n",
    "            print('검색 완료')\n",
    "            have_btn = False\n",
    "            break\n",
    "    driver.find_element(By.XPATH, \"\"\"//*[@id=\"local\"]\"\"\").click()"
   ]
  },
  {
   "cell_type": "code",
   "execution_count": null,
   "metadata": {},
   "outputs": [],
   "source": [
    "driver.close()"
   ]
  },
  {
   "cell_type": "code",
   "execution_count": null,
   "metadata": {},
   "outputs": [],
   "source": [
    "df = pd.DataFrame(celenium_data, columns= ['구', '이름', '카테고리', '별점', '리뷰수', '주소'])"
   ]
  }
 ],
 "metadata": {
  "kernelspec": {
   "display_name": "eda_venv",
   "language": "python",
   "name": "python3"
  },
  "language_info": {
   "codemirror_mode": {
    "name": "ipython",
    "version": 3
   },
   "file_extension": ".py",
   "mimetype": "text/x-python",
   "name": "python",
   "nbconvert_exporter": "python",
   "pygments_lexer": "ipython3",
   "version": "3.10.12"
  }
 },
 "nbformat": 4,
 "nbformat_minor": 2
}
